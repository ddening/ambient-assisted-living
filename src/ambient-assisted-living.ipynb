{
 "cells": [
  {
   "cell_type": "markdown",
   "metadata": {},
   "source": [
    "# Ambient Assisted Living"
   ]
  },
  {
   "cell_type": "markdown",
   "metadata": {},
   "source": [
    "Korrelation und Kovarianz sind zwei Maße, die beide die Beziehung zwischen zwei Variablen beschreiben. Der Hauptunterschied liegt jedoch darin, wie sie diese Beziehung quantifizieren und interpretieren. Hier eine Erklärung beider Konzepte und ihrer Unterschiede:\n",
    "\n",
    "#### 1. Kovarianz\n",
    "Die Kovarianz misst, wie zwei Variablen miteinander variieren. Sie gibt an, ob und in welchem Ausmaß die Werte der beiden Variablen in dieselbe Richtung tendieren.\n",
    "    > Wenn die Kovarianz positiv ist, bedeutet das, dass beide Variablen dazu neigen, gleichzeitig zu steigen oder zu fallen.\n",
    "    > Wenn die Kovarianz negativ ist, bedeutet das, dass eine Variable steigt, während die andere tendenziell sinkt.\n",
    "    > Eine Kovarianz nahe null bedeutet, dass es keinen klaren Zusammenhang in den Richtungen der beiden Variablen gibt.\n",
    "##### Beispiel\n",
    "Stellen wir uns vor, wir betrachten das Einkommen und die Ausgaben verschiedener Personen. Wenn Menschen mit höherem Einkommen tendenziell auch höhere Ausgaben haben, wäre die Kovarianz positiv.\n",
    "##### Problem\n",
    "Die Kovarianz ist jedoch schwer interpretierbar, da sie stark von den Einheiten der beiden Variablen abhängt. Zum Beispiel führt eine Änderung der Maßeinheit (z. B. von Euro in Cent) zu einer Änderung des Kovarianzwerts, was den Vergleich zwischen verschiedenen Datenpaaren erschwert.\n",
    "#### 2. Korrelation\n",
    "Die Korrelation ist eine standardisierte Form der Kovarianz und misst die Stärke und Richtung der linearen Beziehung zwischen zwei Variablen auf einer Skala von -1 bis +1.\n",
    "\n",
    "    > Ein Wert von +1 bedeutet eine perfekte positive lineare Beziehung: Wenn eine Variable steigt, steigt die andere im gleichen Verhältnis.\n",
    "    > Ein Wert von -1 bedeutet eine perfekte negative lineare Beziehung: Wenn eine Variable steigt, sinkt die andere proportional.\n",
    "    > Ein Wert von 0 bedeutet keine lineare Beziehung zwischen den beiden Variablen.\n",
    "\n",
    "Die Korrelation wird berechnet, indem die Kovarianz durch das Produkt der Standardabweichungen der beiden Variablen geteilt wird. Dadurch wird sie einheitenunabhängig und besser vergleichbar.\n",
    "##### Beispiel\n",
    "Nehmen wir an, wir betrachten wieder Einkommen und Ausgaben. Eine Korrelation von +0,8 würde bedeuten, dass es eine starke positive lineare Beziehung gibt – höhere Einkommen sind tendenziell mit höheren Ausgaben verbunden, aber nicht perfekt.\n",
    "\n",
    "|Merkmal\t| Kovarianz\t| Korrelation|\n",
    "|-----------|-----------|------------|\n",
    "|Wertebereich | Kann jede Zahl annehmen, abhängig von den Einheiten\t| Zwischen -1 und +1\n",
    "|Skalierung\t| Hängt von den Einheiten der Variablen ab\t| Unabhängig von den Einheiten, da standardisiert\n",
    "|Interpretation\t| Zeigt, ob und wie stark zwei Variablen gemeinsam variieren, jedoch ohne klare Skala | Misst die Stärke und Richtung der linearen Beziehung, einfach zu interpretieren\n",
    "|Berechnung\t| Durchschnitt der Produkte der Abweichungen der Variablen von ihrem Mittelwert\t| Kovarianz geteilt durch das Produkt der Standardabweichungen der beiden Variablen\n",
    "\n",
    "#### Zusammenfassend: Kovarianz zeigt eine grundsätzliche gemeinsame Tendenz auf, während die Korrelation diese Tendenz skaliert und eine Vergleichbarkeit ermöglicht."
   ]
  },
  {
   "cell_type": "markdown",
   "metadata": {},
   "source": [
    "#### Mittelwert                 $ \\bar{x} = \\frac{1}{n} \\sum_{i=1}^{n} x_i $\n",
    "#### Gewichteter Mittelwer      $ \\bar{x}_w = \\frac{\\sum_{i=1}^{n} w_i x_i}{\\sum_{i=1}^{n} w_i} $\n",
    "#### geometrischer Mittelwert   $ \\bar{x}_g = \\left( \\prod_{i=1}^{n} x_i \\right)^{\\frac{1}{n}} $\n",
    "#### harmonischer Mittelwert    $ \\bar{x}_h = \\frac{n}{\\sum_{i=1}^{n} \\frac{1}{x_i}} $\n",
    "### Pearson Korrelation Definiton $ r = \\frac{ \\sum_{i=1}^{n}(x_i-\\bar{x})(y_i-\\bar{y}) }{\\sqrt{\\sum_{i=1}^{n}(x_i-\\bar{x})^2 \\sum_{i=1}^{n}(y_i-\\bar{y})^2}} $"
   ]
  }
 ],
 "metadata": {
  "kernelspec": {
   "display_name": "base",
   "language": "python",
   "name": "python3"
  },
  "language_info": {
   "codemirror_mode": {
    "name": "ipython",
    "version": 3
   },
   "file_extension": ".py",
   "mimetype": "text/x-python",
   "name": "python",
   "nbconvert_exporter": "python",
   "pygments_lexer": "ipython3",
   "version": "3.12.4"
  }
 },
 "nbformat": 4,
 "nbformat_minor": 2
}
