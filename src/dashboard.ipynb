{
 "cells": [
  {
   "cell_type": "code",
   "execution_count": null,
   "metadata": {},
   "outputs": [],
   "source": [
    "import ipywidgets as widgets\n",
    "from IPython.display import display\n",
    "import matplotlib.pyplot as plt\n",
    "import numpy as np\n",
    "\n",
    "# Dropdown widget\n",
    "dropdown = widgets.Dropdown(\n",
    "    options=[\"Sine Wave\", \"Cosine Wave\"],\n",
    "    value=\"Sine Wave\",\n",
    "    description=\"Select:\",\n",
    ")\n",
    "\n",
    "# Slider widget\n",
    "slider = widgets.IntSlider(\n",
    "    value=1,\n",
    "    min=1,\n",
    "    max=10,\n",
    "    step=1,\n",
    "    description=\"Frequency:\",\n",
    ")\n",
    "\n",
    "\n",
    "# Function to update plot\n",
    "def update_plot(change):\n",
    "    plt.figure(figsize=(6, 4))\n",
    "    x = np.linspace(0, 2 * np.pi, 500)\n",
    "    freq = slider.value\n",
    "    if dropdown.value == \"Sine Wave\":\n",
    "        y = np.sin(freq * x)\n",
    "    else:\n",
    "        y = np.cos(freq * x)\n",
    "    plt.plot(x, y)\n",
    "    plt.title(f\"{dropdown.value} (Frequency = {freq})\")\n",
    "    plt.xlabel(\"x\")\n",
    "    plt.ylabel(\"y\")\n",
    "    plt.grid(True)\n",
    "    plt.show()\n",
    "\n",
    "\n",
    "# Link widgets to plot function\n",
    "dropdown.observe(update_plot, names=\"value\")\n",
    "slider.observe(update_plot, names=\"value\")\n",
    "\n",
    "# Display widgets and initial plot\n",
    "display(dropdown, slider)\n",
    "update_plot(None)"
   ]
  }
 ],
 "metadata": {
  "kernelspec": {
   "display_name": "base",
   "language": "python",
   "name": "python3"
  },
  "language_info": {
   "codemirror_mode": {
    "name": "ipython",
    "version": 3
   },
   "file_extension": ".py",
   "mimetype": "text/x-python",
   "name": "python",
   "nbconvert_exporter": "python",
   "pygments_lexer": "ipython3",
   "version": "3.12.4"
  }
 },
 "nbformat": 4,
 "nbformat_minor": 2
}
